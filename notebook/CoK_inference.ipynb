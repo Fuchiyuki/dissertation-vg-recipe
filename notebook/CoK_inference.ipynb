{
  "nbformat": 4,
  "nbformat_minor": 0,
  "metadata": {
    "colab": {
      "provenance": []
    },
    "kernelspec": {
      "name": "python3",
      "display_name": "Python 3"
    },
    "language_info": {
      "name": "python"
    }
  },
  "cells": [
    {
      "cell_type": "code",
      "execution_count": 1,
      "metadata": {
        "colab": {
          "base_uri": "https://localhost:8080/"
        },
        "id": "qESo418Wh9xu",
        "outputId": "8befc6d3-2472-4322-cce2-edaec2de23ae"
      },
      "outputs": [
        {
          "output_type": "stream",
          "name": "stdout",
          "text": [
            "Mounted at /content/drive\n",
            "Using recipe file: /content/drive/MyDrive/pizza_recipes/artichoke_pizza.txt\n"
          ]
        }
      ],
      "source": [
        "# === Cell 1: Mount Google Drive and set file path ===\n",
        "from google.colab import drive\n",
        "# Authenticate and mount\n",
        "drive.mount('/content/drive')\n",
        "# Place your artichoke_pizza.txt under /MyDrive/pizza_recipes/\n",
        "FILE_PATH = '/content/drive/MyDrive/pizza_recipes/artichoke_pizza.txt'\n",
        "print(f\"Using recipe file: {FILE_PATH}\")\n"
      ]
    },
    {
      "cell_type": "code",
      "source": [
        "# === Cell 2: Imports & OpenAI client ===\n",
        "import json, re\n",
        "from getpass import getpass\n",
        "from openai import OpenAI\n",
        "# Enter your API key\n",
        "token = getpass('Enter OpenAI API key: ')\n",
        "client = OpenAI(api_key=token)"
      ],
      "metadata": {
        "colab": {
          "base_uri": "https://localhost:8080/"
        },
        "id": "dIs6gsxciEhk",
        "outputId": "92bd69c7-b7b8-42db-d76f-8d60bbc9147c"
      },
      "execution_count": 2,
      "outputs": [
        {
          "name": "stdout",
          "output_type": "stream",
          "text": [
            "Enter OpenAI API key: ··········\n"
          ]
        }
      ]
    },
    {
      "cell_type": "code",
      "source": [
        "# === Cell 3: Load recipe JSON ===\n",
        "with open(FILE_PATH,'r',encoding='utf-8') as f:\n",
        "    data = json.load(f)\n",
        "print('Recipe title:', data['title'])\n",
        "print('Step count:', len(data['table']))"
      ],
      "metadata": {
        "colab": {
          "base_uri": "https://localhost:8080/"
        },
        "id": "5NVfZdMYiXpl",
        "outputId": "e6d1452b-6d26-4363-ca28-3f21c2a23123"
      },
      "execution_count": 3,
      "outputs": [
        {
          "output_type": "stream",
          "name": "stdout",
          "text": [
            "Recipe title: artichoke_pizza\n",
            "Step count: 4\n"
          ]
        }
      ]
    },
    {
      "cell_type": "code",
      "source": [
        "# === Debug Cell: inspect the first row of the table ===\n",
        "print(data['table'][0].keys())\n",
        "# 期待される出力例: dict_keys(['instructions', 'input', 'actions', 'output'])\n",
        "# もし 'actions' ではなく 'action' なら次のステップで置き換えます。\n"
      ],
      "metadata": {
        "colab": {
          "base_uri": "https://localhost:8080/"
        },
        "id": "0xFCx3JLuKX8",
        "outputId": "4a2c78f7-1fe0-45d7-a321-24db3108823e"
      },
      "execution_count": 6,
      "outputs": [
        {
          "output_type": "stream",
          "name": "stdout",
          "text": [
            "dict_keys(['instructions', 'input', 'action', 'output'])\n"
          ]
        }
      ]
    },
    {
      "cell_type": "code",
      "source": [
        "# === Cell 4: CoT prompt function ===\n",
        "def cot_prompt(instruction, action, prev_out='NA'):\n",
        "    prev = f\"Previous output: {prev_out}\\n\" if prev_out!='NA' else ''\n",
        "    prompt = (\n",
        "        f\"Instruction: {instruction}\\n\"\n",
        "        f\"Action: {action}\\n\"\n",
        "        f\"{prev}Think step by step, then output ONLY:\\n\"\n",
        "        \"<in>: (item1; item2; ...)</in>\\n\"\n",
        "        \"<out>: result_phrase</out>\"\n",
        "    )\n",
        "    resp = client.chat.completions.create(\n",
        "        model='gpt-4o', messages=[\n",
        "            {'role':'system','content':'You are a concise cooking assistant.'},\n",
        "            {'role':'user','content':prompt}\n",
        "        ], temperature=0.0, max_tokens=150)\n",
        "    return resp.choices[0].message.content.strip()"
      ],
      "metadata": {
        "id": "wXEl__eRifxc"
      },
      "execution_count": 7,
      "outputs": []
    },
    {
      "cell_type": "code",
      "source": [
        "# === Cell 5: Reasoning Preparation (CoT) ===\n",
        "results = []\n",
        "prev_out = 'NA'\n",
        "for i, row in enumerate(data['table'], start=1):\n",
        "    instr = row.get('instructions') or row.get('instruction')\n",
        "    act   = row.get('actions')     or row.get('action')\n",
        "    print(f\"\\n--- Step {i}: {instr} ---\")\n",
        "    out = cot_prompt(instr, act, prev_out)\n",
        "    print(out)\n",
        "    results.append({'step':i, 'instr':instr, 'act':act, 'cot':out})\n",
        "    # 抜き出しも同じまま\n",
        "    m = re.search(r\"<out>\\s*(.*?)\\s*</out>\", out)\n",
        "    prev_out = m.group(1).strip() if m else 'NA'\n"
      ],
      "metadata": {
        "colab": {
          "base_uri": "https://localhost:8080/"
        },
        "id": "ih63ijuGijEl",
        "outputId": "3b2ff51a-69f2-488c-db2b-9208aaf22f2d"
      },
      "execution_count": 8,
      "outputs": [
        {
          "output_type": "stream",
          "name": "stdout",
          "text": [
            "\n",
            "--- Step 1: heat up your oven as hot as it gets . ---\n",
            "<in>: (oven)</in>\n",
            "<out>: The oven is preheating to its maximum temperature.</out>\n",
            "\n",
            "--- Step 2: spread tomato_sauce evenly to the both pizzas . ---\n",
            "<in>: (tomato_sauce; pizza1; pizza2)</in>\n",
            "<out>: Tomato sauce is spread evenly on both pizzas.</out>\n",
            "\n",
            "--- Step 3: spread the mushrooms , artichokes and olives on the pizza . ---\n",
            "<in>: (mushrooms; artichokes; olives)</in>\n",
            "<out>: Mushrooms, artichokes, and olives are spread evenly on the pizza.</out>\n",
            "\n",
            "--- Step 4: bake in the oven for about 10 minutes or longer , depending on how hot your oven is . ---\n",
            "<in>: (pizza; oven)</in>\n",
            "<out>: The pizza is baked in the oven for about 10 minutes or longer, depending on the oven's temperature.</out>\n"
          ]
        }
      ]
    },
    {
      "cell_type": "code",
      "source": [
        "# === Cell 6: Parse CoT outputs to extract predicted in/out ===\n",
        "for r in results:\n",
        "    cot = r['cot']\n",
        "    inm = re.search(r\"<in>\\s*(.*?)\\s*</in>\", cot)\n",
        "    outm= re.search(r\"<out>\\s*(.*?)\\s*</out>\", cot)\n",
        "    r['pred_in']  = inm.group(1).strip() if inm else 'NA'\n",
        "    r['pred_out'] = outm.group(1).strip() if outm else 'NA'\n",
        "print('\\nPredicted I/O:')\n",
        "for r in results: print(r['step'], r['pred_in'], '->', r['pred_out'])"
      ],
      "metadata": {
        "colab": {
          "base_uri": "https://localhost:8080/"
        },
        "id": "biWQua-RwG5t",
        "outputId": "a7f62593-7fc2-48bc-ee59-a9ddfdf0a4bb"
      },
      "execution_count": 9,
      "outputs": [
        {
          "output_type": "stream",
          "name": "stdout",
          "text": [
            "\n",
            "Predicted I/O:\n",
            "1 : (oven) -> : The oven is preheating to its maximum temperature.\n",
            "2 : (tomato_sauce; pizza1; pizza2) -> : Tomato sauce is spread evenly on both pizzas.\n",
            "3 : (mushrooms; artichokes; olives) -> : Mushrooms, artichokes, and olives are spread evenly on the pizza.\n",
            "4 : (pizza; oven) -> : The pizza is baked in the oven for about 10 minutes or longer, depending on the oven's temperature.\n"
          ]
        }
      ]
    },
    {
      "cell_type": "code",
      "source": [
        "\n",
        "# === Cell 7: Define Cooking Glossary (Ground Truth mapping) ===\n",
        "glossary = {\n",
        "    'preheat':    {'in':'NA','out':'NA'},\n",
        "    'mix':        {'in':'(flour; water)','out':'dough'},\n",
        "    'spread':     {'in':'(dough; tomato_sauce)','out':'sauced dough'},\n",
        "    'add_toppings':{'in':'(sauced dough; mushrooms; artichokes; olives)','out':'topped dough'},\n",
        "    'bake':       {'in':'(topped dough)','out':'baked pizza'}\n",
        "}\n"
      ],
      "metadata": {
        "id": "ApO_k-eKwKQu"
      },
      "execution_count": 10,
      "outputs": []
    },
    {
      "cell_type": "code",
      "source": [
        "# === Cell 8: Dynamic Knowledge Adapting ===\n",
        "for r in results:\n",
        "    action = r['act']\n",
        "    map_key = action if action in glossary else 'add_toppings' if 'spread' in action else None\n",
        "    if map_key and glossary[map_key]:\n",
        "        r['corr_in']  = glossary[map_key]['in']\n",
        "        r['corr_out'] = glossary[map_key]['out']\n",
        "    else:\n",
        "        r['corr_in'], r['corr_out'] = r['pred_in'], r['pred_out']\n",
        "print('\\nCorrected I/O after Knowledge Adapting:')\n",
        "for r in results: print(r['step'], r['corr_in'], '->', r['corr_out'])"
      ],
      "metadata": {
        "colab": {
          "base_uri": "https://localhost:8080/"
        },
        "id": "91mMjIbCwNET",
        "outputId": "d949029f-f8a7-41c4-e7bc-441e6584c2af"
      },
      "execution_count": 11,
      "outputs": [
        {
          "output_type": "stream",
          "name": "stdout",
          "text": [
            "\n",
            "Corrected I/O after Knowledge Adapting:\n",
            "1 : (oven) -> : The oven is preheating to its maximum temperature.\n",
            "2 (dough; tomato_sauce) -> sauced dough\n",
            "3 (dough; tomato_sauce) -> sauced dough\n",
            "4 (topped dough) -> baked pizza\n"
          ]
        }
      ]
    },
    {
      "cell_type": "code",
      "source": [
        "# === Cell 9: Answer Consolidation ===\n",
        "import pandas as pd\n",
        "df = pd.DataFrame([{\n",
        "    'Step':    r['step'],\n",
        "    'Instruction': r['instr'],\n",
        "    'Input':   r['corr_in'],\n",
        "    'Output':  r['corr_out']\n",
        "} for r in results])\n",
        "df"
      ],
      "metadata": {
        "colab": {
          "base_uri": "https://localhost:8080/",
          "height": 175
        },
        "id": "y4BCg70xwUU5",
        "outputId": "88d92920-c12a-46cf-d726-a91986a0478d"
      },
      "execution_count": 12,
      "outputs": [
        {
          "output_type": "execute_result",
          "data": {
            "text/plain": [
              "   Step                                        Instruction  \\\n",
              "0     1              heat up your oven as hot as it gets .   \n",
              "1     2    spread tomato_sauce evenly to the both pizzas .   \n",
              "2     3  spread the mushrooms , artichokes and olives o...   \n",
              "3     4  bake in the oven for about 10 minutes or longe...   \n",
              "\n",
              "                   Input                                             Output  \n",
              "0               : (oven)  : The oven is preheating to its maximum temper...  \n",
              "1  (dough; tomato_sauce)                                       sauced dough  \n",
              "2  (dough; tomato_sauce)                                       sauced dough  \n",
              "3         (topped dough)                                        baked pizza  "
            ],
            "text/html": [
              "\n",
              "  <div id=\"df-2d6601c2-15ec-4410-aa0c-f4ab16502bc7\" class=\"colab-df-container\">\n",
              "    <div>\n",
              "<style scoped>\n",
              "    .dataframe tbody tr th:only-of-type {\n",
              "        vertical-align: middle;\n",
              "    }\n",
              "\n",
              "    .dataframe tbody tr th {\n",
              "        vertical-align: top;\n",
              "    }\n",
              "\n",
              "    .dataframe thead th {\n",
              "        text-align: right;\n",
              "    }\n",
              "</style>\n",
              "<table border=\"1\" class=\"dataframe\">\n",
              "  <thead>\n",
              "    <tr style=\"text-align: right;\">\n",
              "      <th></th>\n",
              "      <th>Step</th>\n",
              "      <th>Instruction</th>\n",
              "      <th>Input</th>\n",
              "      <th>Output</th>\n",
              "    </tr>\n",
              "  </thead>\n",
              "  <tbody>\n",
              "    <tr>\n",
              "      <th>0</th>\n",
              "      <td>1</td>\n",
              "      <td>heat up your oven as hot as it gets .</td>\n",
              "      <td>: (oven)</td>\n",
              "      <td>: The oven is preheating to its maximum temper...</td>\n",
              "    </tr>\n",
              "    <tr>\n",
              "      <th>1</th>\n",
              "      <td>2</td>\n",
              "      <td>spread tomato_sauce evenly to the both pizzas .</td>\n",
              "      <td>(dough; tomato_sauce)</td>\n",
              "      <td>sauced dough</td>\n",
              "    </tr>\n",
              "    <tr>\n",
              "      <th>2</th>\n",
              "      <td>3</td>\n",
              "      <td>spread the mushrooms , artichokes and olives o...</td>\n",
              "      <td>(dough; tomato_sauce)</td>\n",
              "      <td>sauced dough</td>\n",
              "    </tr>\n",
              "    <tr>\n",
              "      <th>3</th>\n",
              "      <td>4</td>\n",
              "      <td>bake in the oven for about 10 minutes or longe...</td>\n",
              "      <td>(topped dough)</td>\n",
              "      <td>baked pizza</td>\n",
              "    </tr>\n",
              "  </tbody>\n",
              "</table>\n",
              "</div>\n",
              "    <div class=\"colab-df-buttons\">\n",
              "\n",
              "  <div class=\"colab-df-container\">\n",
              "    <button class=\"colab-df-convert\" onclick=\"convertToInteractive('df-2d6601c2-15ec-4410-aa0c-f4ab16502bc7')\"\n",
              "            title=\"Convert this dataframe to an interactive table.\"\n",
              "            style=\"display:none;\">\n",
              "\n",
              "  <svg xmlns=\"http://www.w3.org/2000/svg\" height=\"24px\" viewBox=\"0 -960 960 960\">\n",
              "    <path d=\"M120-120v-720h720v720H120Zm60-500h600v-160H180v160Zm220 220h160v-160H400v160Zm0 220h160v-160H400v160ZM180-400h160v-160H180v160Zm440 0h160v-160H620v160ZM180-180h160v-160H180v160Zm440 0h160v-160H620v160Z\"/>\n",
              "  </svg>\n",
              "    </button>\n",
              "\n",
              "  <style>\n",
              "    .colab-df-container {\n",
              "      display:flex;\n",
              "      gap: 12px;\n",
              "    }\n",
              "\n",
              "    .colab-df-convert {\n",
              "      background-color: #E8F0FE;\n",
              "      border: none;\n",
              "      border-radius: 50%;\n",
              "      cursor: pointer;\n",
              "      display: none;\n",
              "      fill: #1967D2;\n",
              "      height: 32px;\n",
              "      padding: 0 0 0 0;\n",
              "      width: 32px;\n",
              "    }\n",
              "\n",
              "    .colab-df-convert:hover {\n",
              "      background-color: #E2EBFA;\n",
              "      box-shadow: 0px 1px 2px rgba(60, 64, 67, 0.3), 0px 1px 3px 1px rgba(60, 64, 67, 0.15);\n",
              "      fill: #174EA6;\n",
              "    }\n",
              "\n",
              "    .colab-df-buttons div {\n",
              "      margin-bottom: 4px;\n",
              "    }\n",
              "\n",
              "    [theme=dark] .colab-df-convert {\n",
              "      background-color: #3B4455;\n",
              "      fill: #D2E3FC;\n",
              "    }\n",
              "\n",
              "    [theme=dark] .colab-df-convert:hover {\n",
              "      background-color: #434B5C;\n",
              "      box-shadow: 0px 1px 3px 1px rgba(0, 0, 0, 0.15);\n",
              "      filter: drop-shadow(0px 1px 2px rgba(0, 0, 0, 0.3));\n",
              "      fill: #FFFFFF;\n",
              "    }\n",
              "  </style>\n",
              "\n",
              "    <script>\n",
              "      const buttonEl =\n",
              "        document.querySelector('#df-2d6601c2-15ec-4410-aa0c-f4ab16502bc7 button.colab-df-convert');\n",
              "      buttonEl.style.display =\n",
              "        google.colab.kernel.accessAllowed ? 'block' : 'none';\n",
              "\n",
              "      async function convertToInteractive(key) {\n",
              "        const element = document.querySelector('#df-2d6601c2-15ec-4410-aa0c-f4ab16502bc7');\n",
              "        const dataTable =\n",
              "          await google.colab.kernel.invokeFunction('convertToInteractive',\n",
              "                                                    [key], {});\n",
              "        if (!dataTable) return;\n",
              "\n",
              "        const docLinkHtml = 'Like what you see? Visit the ' +\n",
              "          '<a target=\"_blank\" href=https://colab.research.google.com/notebooks/data_table.ipynb>data table notebook</a>'\n",
              "          + ' to learn more about interactive tables.';\n",
              "        element.innerHTML = '';\n",
              "        dataTable['output_type'] = 'display_data';\n",
              "        await google.colab.output.renderOutput(dataTable, element);\n",
              "        const docLink = document.createElement('div');\n",
              "        docLink.innerHTML = docLinkHtml;\n",
              "        element.appendChild(docLink);\n",
              "      }\n",
              "    </script>\n",
              "  </div>\n",
              "\n",
              "\n",
              "    <div id=\"df-ab73dcb8-441b-45d0-9b70-af1e941e1f78\">\n",
              "      <button class=\"colab-df-quickchart\" onclick=\"quickchart('df-ab73dcb8-441b-45d0-9b70-af1e941e1f78')\"\n",
              "                title=\"Suggest charts\"\n",
              "                style=\"display:none;\">\n",
              "\n",
              "<svg xmlns=\"http://www.w3.org/2000/svg\" height=\"24px\"viewBox=\"0 0 24 24\"\n",
              "     width=\"24px\">\n",
              "    <g>\n",
              "        <path d=\"M19 3H5c-1.1 0-2 .9-2 2v14c0 1.1.9 2 2 2h14c1.1 0 2-.9 2-2V5c0-1.1-.9-2-2-2zM9 17H7v-7h2v7zm4 0h-2V7h2v10zm4 0h-2v-4h2v4z\"/>\n",
              "    </g>\n",
              "</svg>\n",
              "      </button>\n",
              "\n",
              "<style>\n",
              "  .colab-df-quickchart {\n",
              "      --bg-color: #E8F0FE;\n",
              "      --fill-color: #1967D2;\n",
              "      --hover-bg-color: #E2EBFA;\n",
              "      --hover-fill-color: #174EA6;\n",
              "      --disabled-fill-color: #AAA;\n",
              "      --disabled-bg-color: #DDD;\n",
              "  }\n",
              "\n",
              "  [theme=dark] .colab-df-quickchart {\n",
              "      --bg-color: #3B4455;\n",
              "      --fill-color: #D2E3FC;\n",
              "      --hover-bg-color: #434B5C;\n",
              "      --hover-fill-color: #FFFFFF;\n",
              "      --disabled-bg-color: #3B4455;\n",
              "      --disabled-fill-color: #666;\n",
              "  }\n",
              "\n",
              "  .colab-df-quickchart {\n",
              "    background-color: var(--bg-color);\n",
              "    border: none;\n",
              "    border-radius: 50%;\n",
              "    cursor: pointer;\n",
              "    display: none;\n",
              "    fill: var(--fill-color);\n",
              "    height: 32px;\n",
              "    padding: 0;\n",
              "    width: 32px;\n",
              "  }\n",
              "\n",
              "  .colab-df-quickchart:hover {\n",
              "    background-color: var(--hover-bg-color);\n",
              "    box-shadow: 0 1px 2px rgba(60, 64, 67, 0.3), 0 1px 3px 1px rgba(60, 64, 67, 0.15);\n",
              "    fill: var(--button-hover-fill-color);\n",
              "  }\n",
              "\n",
              "  .colab-df-quickchart-complete:disabled,\n",
              "  .colab-df-quickchart-complete:disabled:hover {\n",
              "    background-color: var(--disabled-bg-color);\n",
              "    fill: var(--disabled-fill-color);\n",
              "    box-shadow: none;\n",
              "  }\n",
              "\n",
              "  .colab-df-spinner {\n",
              "    border: 2px solid var(--fill-color);\n",
              "    border-color: transparent;\n",
              "    border-bottom-color: var(--fill-color);\n",
              "    animation:\n",
              "      spin 1s steps(1) infinite;\n",
              "  }\n",
              "\n",
              "  @keyframes spin {\n",
              "    0% {\n",
              "      border-color: transparent;\n",
              "      border-bottom-color: var(--fill-color);\n",
              "      border-left-color: var(--fill-color);\n",
              "    }\n",
              "    20% {\n",
              "      border-color: transparent;\n",
              "      border-left-color: var(--fill-color);\n",
              "      border-top-color: var(--fill-color);\n",
              "    }\n",
              "    30% {\n",
              "      border-color: transparent;\n",
              "      border-left-color: var(--fill-color);\n",
              "      border-top-color: var(--fill-color);\n",
              "      border-right-color: var(--fill-color);\n",
              "    }\n",
              "    40% {\n",
              "      border-color: transparent;\n",
              "      border-right-color: var(--fill-color);\n",
              "      border-top-color: var(--fill-color);\n",
              "    }\n",
              "    60% {\n",
              "      border-color: transparent;\n",
              "      border-right-color: var(--fill-color);\n",
              "    }\n",
              "    80% {\n",
              "      border-color: transparent;\n",
              "      border-right-color: var(--fill-color);\n",
              "      border-bottom-color: var(--fill-color);\n",
              "    }\n",
              "    90% {\n",
              "      border-color: transparent;\n",
              "      border-bottom-color: var(--fill-color);\n",
              "    }\n",
              "  }\n",
              "</style>\n",
              "\n",
              "      <script>\n",
              "        async function quickchart(key) {\n",
              "          const quickchartButtonEl =\n",
              "            document.querySelector('#' + key + ' button');\n",
              "          quickchartButtonEl.disabled = true;  // To prevent multiple clicks.\n",
              "          quickchartButtonEl.classList.add('colab-df-spinner');\n",
              "          try {\n",
              "            const charts = await google.colab.kernel.invokeFunction(\n",
              "                'suggestCharts', [key], {});\n",
              "          } catch (error) {\n",
              "            console.error('Error during call to suggestCharts:', error);\n",
              "          }\n",
              "          quickchartButtonEl.classList.remove('colab-df-spinner');\n",
              "          quickchartButtonEl.classList.add('colab-df-quickchart-complete');\n",
              "        }\n",
              "        (() => {\n",
              "          let quickchartButtonEl =\n",
              "            document.querySelector('#df-ab73dcb8-441b-45d0-9b70-af1e941e1f78 button');\n",
              "          quickchartButtonEl.style.display =\n",
              "            google.colab.kernel.accessAllowed ? 'block' : 'none';\n",
              "        })();\n",
              "      </script>\n",
              "    </div>\n",
              "\n",
              "  <div id=\"id_6c388b11-4127-4e25-b649-97bff2fbfba5\">\n",
              "    <style>\n",
              "      .colab-df-generate {\n",
              "        background-color: #E8F0FE;\n",
              "        border: none;\n",
              "        border-radius: 50%;\n",
              "        cursor: pointer;\n",
              "        display: none;\n",
              "        fill: #1967D2;\n",
              "        height: 32px;\n",
              "        padding: 0 0 0 0;\n",
              "        width: 32px;\n",
              "      }\n",
              "\n",
              "      .colab-df-generate:hover {\n",
              "        background-color: #E2EBFA;\n",
              "        box-shadow: 0px 1px 2px rgba(60, 64, 67, 0.3), 0px 1px 3px 1px rgba(60, 64, 67, 0.15);\n",
              "        fill: #174EA6;\n",
              "      }\n",
              "\n",
              "      [theme=dark] .colab-df-generate {\n",
              "        background-color: #3B4455;\n",
              "        fill: #D2E3FC;\n",
              "      }\n",
              "\n",
              "      [theme=dark] .colab-df-generate:hover {\n",
              "        background-color: #434B5C;\n",
              "        box-shadow: 0px 1px 3px 1px rgba(0, 0, 0, 0.15);\n",
              "        filter: drop-shadow(0px 1px 2px rgba(0, 0, 0, 0.3));\n",
              "        fill: #FFFFFF;\n",
              "      }\n",
              "    </style>\n",
              "    <button class=\"colab-df-generate\" onclick=\"generateWithVariable('df')\"\n",
              "            title=\"Generate code using this dataframe.\"\n",
              "            style=\"display:none;\">\n",
              "\n",
              "  <svg xmlns=\"http://www.w3.org/2000/svg\" height=\"24px\"viewBox=\"0 0 24 24\"\n",
              "       width=\"24px\">\n",
              "    <path d=\"M7,19H8.4L18.45,9,17,7.55,7,17.6ZM5,21V16.75L18.45,3.32a2,2,0,0,1,2.83,0l1.4,1.43a1.91,1.91,0,0,1,.58,1.4,1.91,1.91,0,0,1-.58,1.4L9.25,21ZM18.45,9,17,7.55Zm-12,3A5.31,5.31,0,0,0,4.9,8.1,5.31,5.31,0,0,0,1,6.5,5.31,5.31,0,0,0,4.9,4.9,5.31,5.31,0,0,0,6.5,1,5.31,5.31,0,0,0,8.1,4.9,5.31,5.31,0,0,0,12,6.5,5.46,5.46,0,0,0,6.5,12Z\"/>\n",
              "  </svg>\n",
              "    </button>\n",
              "    <script>\n",
              "      (() => {\n",
              "      const buttonEl =\n",
              "        document.querySelector('#id_6c388b11-4127-4e25-b649-97bff2fbfba5 button.colab-df-generate');\n",
              "      buttonEl.style.display =\n",
              "        google.colab.kernel.accessAllowed ? 'block' : 'none';\n",
              "\n",
              "      buttonEl.onclick = () => {\n",
              "        google.colab.notebook.generateWithVariable('df');\n",
              "      }\n",
              "      })();\n",
              "    </script>\n",
              "  </div>\n",
              "\n",
              "    </div>\n",
              "  </div>\n"
            ],
            "application/vnd.google.colaboratory.intrinsic+json": {
              "type": "dataframe",
              "variable_name": "df",
              "summary": "{\n  \"name\": \"df\",\n  \"rows\": 4,\n  \"fields\": [\n    {\n      \"column\": \"Step\",\n      \"properties\": {\n        \"dtype\": \"number\",\n        \"std\": 1,\n        \"min\": 1,\n        \"max\": 4,\n        \"num_unique_values\": 4,\n        \"samples\": [\n          2,\n          4,\n          1\n        ],\n        \"semantic_type\": \"\",\n        \"description\": \"\"\n      }\n    },\n    {\n      \"column\": \"Instruction\",\n      \"properties\": {\n        \"dtype\": \"string\",\n        \"num_unique_values\": 4,\n        \"samples\": [\n          \"spread tomato_sauce evenly to the both pizzas .\",\n          \"bake in the oven for about 10 minutes or longer , depending on how hot your oven is .\",\n          \"heat up your oven as hot as it gets .\"\n        ],\n        \"semantic_type\": \"\",\n        \"description\": \"\"\n      }\n    },\n    {\n      \"column\": \"Input\",\n      \"properties\": {\n        \"dtype\": \"string\",\n        \"num_unique_values\": 3,\n        \"samples\": [\n          \": (oven)\",\n          \"(dough; tomato_sauce)\",\n          \"(topped dough)\"\n        ],\n        \"semantic_type\": \"\",\n        \"description\": \"\"\n      }\n    },\n    {\n      \"column\": \"Output\",\n      \"properties\": {\n        \"dtype\": \"string\",\n        \"num_unique_values\": 3,\n        \"samples\": [\n          \": The oven is preheating to its maximum temperature.\",\n          \"sauced dough\",\n          \"baked pizza\"\n        ],\n        \"semantic_type\": \"\",\n        \"description\": \"\"\n      }\n    }\n  ]\n}"
            }
          },
          "metadata": {},
          "execution_count": 12
        }
      ]
    }
  ]
}