{
  "nbformat": 4,
  "nbformat_minor": 0,
  "metadata": {
    "colab": {
      "provenance": []
    },
    "kernelspec": {
      "name": "python3",
      "display_name": "Python 3"
    },
    "language_info": {
      "name": "python"
    }
  },
  "cells": [
    {
      "cell_type": "code",
      "execution_count": null,
      "metadata": {
        "colab": {
          "base_uri": "https://localhost:8080/"
        },
        "id": "D7usmaXxjSIc",
        "outputId": "0f18917b-290a-470d-f5a1-f715b91034c7"
      },
      "outputs": [
        {
          "output_type": "stream",
          "name": "stdout",
          "text": [
            "Drive already mounted at /content/drive; to attempt to forcibly remount, call drive.mount(\"/content/drive\", force_remount=True).\n"
          ]
        }
      ],
      "source": [
        "# === セル1: Google Drive のマウント & ファイルパス設定 ===\n",
        "from google.colab import drive\n",
        "# 初回のみ実行後、ブラウザの認証に従ってログインしてください\n",
        "drive.mount('/content/drive')"
      ]
    },
    {
      "cell_type": "code",
      "source": [
        "# txt ファイルは、Google Drive の下記パスに配置してください。\n",
        "# 例: /MyDrive/pizza_recipes/artichoke_pizza.txt\n",
        "FILE_PATH = '/content/drive/MyDrive/pizza_recipes/artichoke_pizza.txt'\n",
        "print(f\"Reading recipe from: {FILE_PATH}\")"
      ],
      "metadata": {
        "colab": {
          "base_uri": "https://localhost:8080/"
        },
        "id": "M-z3OA3jj034",
        "outputId": "5a89bfe8-89b3-4d5e-8c64-9bfa974d9187"
      },
      "execution_count": null,
      "outputs": [
        {
          "output_type": "stream",
          "name": "stdout",
          "text": [
            "Reading recipe from: /content/drive/MyDrive/pizza_recipes/artichoke_pizza.txt\n"
          ]
        }
      ]
    },
    {
      "cell_type": "code",
      "source": [
        "# === セル2: ライブラリ読み込み & OpenAI クライアント初期化 ===\n",
        "import json\n",
        "import re\n",
        "from getpass import getpass\n",
        "from openai import OpenAI\n",
        "\n",
        "# 安全のため、Notebook 実行時にキーを入力する方式を推奨します\n",
        "api_key = getpass('Enter your OpenAI API key: ')\n",
        "client = OpenAI(api_key=api_key)"
      ],
      "metadata": {
        "colab": {
          "base_uri": "https://localhost:8080/"
        },
        "id": "4SWBZwkDj42_",
        "outputId": "2f6d322f-b757-4a1c-8bac-990dc3671732"
      },
      "execution_count": null,
      "outputs": [
        {
          "name": "stdout",
          "output_type": "stream",
          "text": [
            "Enter your OpenAI API key: ··········\n"
          ]
        }
      ]
    },
    {
      "cell_type": "code",
      "source": [
        "# === セル3: レシピデータ読み込み ===\n",
        "with open(FILE_PATH, 'r', encoding='utf-8') as f:\n",
        "    data = json.load(f)\n",
        "\n",
        "print(\"Title:\", data.get(\"title\"))\n",
        "print(\"Number of steps:\", len(data.get(\"table\", [])))"
      ],
      "metadata": {
        "colab": {
          "base_uri": "https://localhost:8080/"
        },
        "id": "k7eC24-jkXRt",
        "outputId": "046bd992-9298-409a-e7aa-d1751c521601"
      },
      "execution_count": null,
      "outputs": [
        {
          "output_type": "stream",
          "name": "stdout",
          "text": [
            "Title: artichoke_pizza\n",
            "Number of steps: 4\n"
          ]
        }
      ]
    },
    {
      "cell_type": "code",
      "source": [
        "# === セル4: Chain-of-Thought プロンプト実行関数 (NA対応 & 逐次連携 & 出力マッピング) ===\n",
        "def run_cot_step(instruction, action, prev_out='NA'):\n",
        "    # 前ステップ出力の追記\n",
        "    prev_line = f\"Previous output: {prev_out}\\n\" if prev_out != 'NA' else ''\n",
        "    # プロンプト構築\n",
        "    user_prompt = (\n",
        "        f\"Instruction: {instruction}\\n\"\n",
        "        f\"Action: {action}\\n\"\n",
        "        f\"{prev_line}\"\n",
        "        \"Think step by step.\\n\"\n",
        "        \"If the action is 'preheat', produce exactly:\\n\"\n",
        "        \"<in>: NA</in>\\n\"\n",
        "        \"<out>: NA</out>\\n\"\n",
        "        \"Otherwise, build the <in> tag as follows:\\n\"\n",
        "        \"- If previous output is not NA, include it first.\\n\"\n",
        "        \"- Then list only the ingredients explicitly needed.\\n\"\n",
        "        \"Map the final output state to these phrases:\\n\"\n",
        "        \"- mixing flour and water -> dough\\n\"\n",
        "        \"- spreading tomato sauce -> sauced dough\\n\"\n",
        "        \"- adding toppings (e.g., mushrooms, artichokes, olives) -> topped dough\\n\"\n",
        "        \"- baking the pizza -> baked pizza\\n\"\n",
        "        \"Output ONLY in this exact format:\\n\"\n",
        "        \"<in>: (item1; item2; ...)</in>\\n\"\n",
        "        \"<out>: result_phrase</out>\"\n",
        "    )\n",
        "    messages = [\n",
        "        {\"role\": \"system\", \"content\": \"You are a precise cooking assistant. Respond only with <in> and <out> tags.\"},\n",
        "        {\"role\": \"user\", \"content\": user_prompt}\n",
        "    ]\n",
        "    resp = client.chat.completions.create(\n",
        "        model=\"gpt-4o\",\n",
        "        messages=messages,\n",
        "        temperature=0.0,\n",
        "        max_tokens=150\n",
        "    )\n",
        "    return resp.choices[0].message.content.strip()"
      ],
      "metadata": {
        "id": "VbcR4WzykdDa"
      },
      "execution_count": null,
      "outputs": []
    },
    {
      "cell_type": "code",
      "source": [
        "# === セル5: 全ステップに適用して結果取得 & 表示 ===\n",
        "results = []\n",
        "for i, row in enumerate(data.get(\"table\", []), start=1):\n",
        "    inst = row.get(\"instructions\")\n",
        "    act  = row.get(\"actions\")\n",
        "    print(f\"\\n=== Step {i}: {inst} ===\")\n",
        "    cot_output = run_cot_step(inst, act)\n",
        "    print(cot_output)\n",
        "    results.append({\"step\": i, \"cot_output\": cot_output})"
      ],
      "metadata": {
        "colab": {
          "base_uri": "https://localhost:8080/"
        },
        "id": "dJqihcxYl38y",
        "outputId": "56e731ae-14b7-45fe-ea8d-5bafc6f02807"
      },
      "execution_count": null,
      "outputs": [
        {
          "output_type": "stream",
          "name": "stdout",
          "text": [
            "\n",
            "=== Step 1: heat up your oven as hot as it gets . ===\n",
            "<in>: NA</in>\n",
            "<out>: NA</out>\n",
            "\n",
            "=== Step 2: spread tomato_sauce evenly to the both pizzas . ===\n",
            "<in>: dough; tomato_sauce</in>\n",
            "<out>: sauced dough</out>\n",
            "\n",
            "=== Step 3: spread the mushrooms , artichokes and olives on the pizza . ===\n",
            "<in>: mushrooms; artichokes; olives</in>\n",
            "<out>: topped dough</out>\n",
            "\n",
            "=== Step 4: bake in the oven for about 10 minutes or longer , depending on how hot your oven is . ===\n",
            "<in>: topped dough</in>\n",
            "<out>: baked pizza</out>\n"
          ]
        }
      ]
    },
    {
      "cell_type": "code",
      "source": [
        "# === セル6: <in> / <out> の自動抽出（正規表現更新） ===\n",
        "# クローズタグ </in> または誤記ケース <\\in> に対応\n",
        "print(\"\\n=== Parsed <in> and <out> from CoT outputs ===\")\n",
        "for r in results:\n",
        "    text = r['cot_output']\n",
        "    # <in>タグの抽出: </in> or <\\in>\n",
        "    in_m  = re.search(r\"<in>\\s*(.*?)\\s*(?:</in>|<\\\\in>)\", text)\n",
        "    out_m = re.search(r\"<out>\\s*(.*?)\\s*(?:</out>|<\\\\out>)\", text)\n",
        "    inp   = in_m.group(1).strip() if in_m else ''\n",
        "    outp  = out_m.group(1).strip() if out_m else ''\n",
        "    print(f\"Step {r['step']}  Input: {inp}\\n           Output: {outp}\\n\")"
      ],
      "metadata": {
        "colab": {
          "base_uri": "https://localhost:8080/"
        },
        "id": "Jw-tWUV8uf33",
        "outputId": "990b0172-9ea3-4d53-d584-3777f1415f22"
      },
      "execution_count": null,
      "outputs": [
        {
          "output_type": "stream",
          "name": "stdout",
          "text": [
            "\n",
            "=== Parsed <in> and <out> from CoT outputs ===\n",
            "Step 1  Input: : NA\n",
            "           Output: : NA\n",
            "\n",
            "Step 2  Input: : dough; tomato_sauce\n",
            "           Output: : sauced dough\n",
            "\n",
            "Step 3  Input: : mushrooms; artichokes; olives\n",
            "           Output: : topped dough\n",
            "\n",
            "Step 4  Input: : topped dough\n",
            "           Output: : baked pizza\n",
            "\n"
          ]
        }
      ]
    }
  ]
}